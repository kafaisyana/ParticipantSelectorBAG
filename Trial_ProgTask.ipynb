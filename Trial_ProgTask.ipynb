{
 "cells": [
  {
   "cell_type": "code",
   "execution_count": 4,
   "metadata": {},
   "outputs": [
    {
     "name": "stdout",
     "output_type": "stream",
     "text": [
      "Jenis Pekerjaan: Guru\n",
      "Anda dapat mengikuti seleksi beasiswa\n",
      "Non/PNS: PNS\n",
      "Tidak terdapat program beasiswa full hingga lulus\n",
      "Un/Certified: Uncertified\n",
      "Program beasiswa full 1 tahun & mentorship hingga lulus\n"
     ]
    }
   ],
   "source": [
    "                                                        #Trial Program\n",
    " #Aldi adalah putra dari seorang trainer yang mengajar di Sekolah Menengah Kejuruan Negeri (SMKN). Ayahnya diangkat satu bulan\n",
    "#lalu setelah 4 tahun WB di sana.\n",
    "    \n",
    "#Conditions: yang harus diinput 1.Guru, 2.PNS, 3.Uncertified\n",
    "#Conclusions\n",
    "Guru = True\n",
    "PNS = True\n",
    "Certified = False\n",
    "\n",
    "#Display & Sistem Program Selector Calon Penerima Beasiswa Anak Guru\n",
    "input(\"Jenis Pekerjaan: \")\n",
    "if Guru == True:\n",
    "    print(\"Anda dapat mengikuti seleksi beasiswa\")\n",
    "    input(\"Non/PNS: \")\n",
    "    if PNS == True:\n",
    "        print(\"Tidak terdapat program beasiswa full hingga lulus\")\n",
    "        input(\"Un/Certified: \")\n",
    "        if Certified == True:\n",
    "            print(\"Program beasiswa mentorship hingga lulus\")\n",
    "        else:\n",
    "            print(\"Program beasiswa full 1 tahun & mentorship hingga lulus\")\n",
    "    else:\n",
    "        print(\"Program beasiswa full & mentorship hingga lulus\")\n",
    "else:\n",
    "    print(\"Anda tidak dapat mengikuti seleksi beasiswa\")"
   ]
  },
  {
   "cell_type": "code",
   "execution_count": null,
   "metadata": {},
   "outputs": [],
   "source": []
  },
  {
   "cell_type": "code",
   "execution_count": null,
   "metadata": {},
   "outputs": [],
   "source": []
  }
 ],
 "metadata": {
  "kernelspec": {
   "display_name": "Python 3",
   "language": "python",
   "name": "python3"
  },
  "language_info": {
   "codemirror_mode": {
    "name": "ipython",
    "version": 3
   },
   "file_extension": ".py",
   "mimetype": "text/x-python",
   "name": "python",
   "nbconvert_exporter": "python",
   "pygments_lexer": "ipython3",
   "version": "3.7.4"
  }
 },
 "nbformat": 4,
 "nbformat_minor": 2
}
